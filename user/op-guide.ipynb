{
 "cells": [
  {
   "cell_type": "markdown",
   "metadata": {},
   "source": [
    "## Project Outline"
   ]
  },
  {
   "cell_type": "markdown",
   "metadata": {},
   "source": [
    "This is a technical guid for the implementation of the project."
   ]
  },
  {
   "cell_type": "markdown",
   "metadata": {},
   "source": [
    "## 1. Modules"
   ]
  },
  {
   "cell_type": "markdown",
   "metadata": {},
   "source": [
    "- Client\n",
    "- Frontend\n",
    "- Backend\n",
    "- Data Pipeline\n",
    "- Model"
   ]
  },
  {
   "cell_type": "markdown",
   "metadata": {},
   "source": [
    "### Client\n",
    "This is the user-facing aspect of the system. i.e simulating a user."
   ]
  },
  {
   "cell_type": "markdown",
   "metadata": {},
   "source": [
    "### Front-end\n",
    "This includes html, css and js implementations"
   ]
  },
  {
   "cell_type": "markdown",
   "metadata": {},
   "source": [
    "### Back-end\n",
    "Implemented in python.\n",
    "Managing user input and acts as the service layer for that data and processes."
   ]
  },
  {
   "cell_type": "markdown",
   "metadata": {},
   "source": [
    "### Data Pipeline\n",
    "This include how data is sourced, ingested, processed, and stored.\n",
    "Makes use of libraries such as: \n",
    "And technologies:"
   ]
  },
  {
   "cell_type": "markdown",
   "metadata": {},
   "source": [
    "### Models\n",
    "This section includes all Supervised and Unsupervised models implements using the aforementioned data.\n",
    "\n",
    "#### To be deleted\n",
    "- Suggestions:\n",
    "\n",
    "Time-series-like data\n",
    "\n",
    "1. Predict (Regression Task)\n",
    "\n",
    "--- unsupervised\n",
    "\n",
    "- RNNs\n",
    "- LSTM(Long short term memory)\n",
    "- Transformers\n",
    "- Echo State Networks\n",
    "- Deep Learning\n",
    "\n",
    "--- supervised\n",
    "\n",
    "- SVMs\n",
    "- Linear Regression\n",
    "- Vector Autoregression\n",
    "- Decision Trees\n",
    "\n",
    "\n",
    "2. Detect anomalies(Classification?kinda)\n",
    "\n",
    "--- unsupervised\n",
    "\n",
    "- K-means*\n",
    "- Neural Networks\n",
    "\n",
    "--- semisupervised\n",
    "\n",
    "- isolation forests\n",
    "\n",
    "--- supervised\n",
    "\n",
    "- Support Vector Classifier\n",
    "- Naive Bayes\n",
    "\n"
   ]
  },
  {
   "cell_type": "markdown",
   "metadata": {},
   "source": []
  }
 ],
 "metadata": {
  "language_info": {
   "name": "python"
  }
 },
 "nbformat": 4,
 "nbformat_minor": 2
}

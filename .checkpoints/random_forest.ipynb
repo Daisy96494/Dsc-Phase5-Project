{
 "cells": [
  {
   "cell_type": "code",
   "execution_count": 13,
   "metadata": {},
   "outputs": [],
   "source": [
    "import pandas as pd\n",
    "import numpy as np\n",
    "import matplotlib.pyplot as plt\n",
    "import seaborn as sns\n",
    "import sqlite3\n",
    "import statsmodels.api as sm\n",
    "from sklearn.model_selection import train_test_split\n",
    "from sklearn.ensemble import RandomForestClassifier\n",
    "from sklearn.linear_model import LogisticRegression\n",
    "from sklearn.metrics import classification_report, confusion_matrix\n",
    "from sklearn.datasets import make_classification\n",
    "from sklearn.preprocessing import LabelEncoder, OneHotEncoder, StandardScaler\n",
    "from sklearn.impute import SimpleImputer\n",
    "from sklearn.metrics import accuracy_score, classification_report, confusion_matrix\n",
    "from sklearn.impute import SimpleImputer\n",
    "\n",
    "\n",
    "# Adjust pandas display options\n",
    "pd.set_option('display.max_columns', None)  # Show all columns\n",
    "pd.set_option('display.width', None)       # Adjust the display width to fit the data"
   ]
  },
  {
   "cell_type": "code",
   "execution_count": 14,
   "metadata": {},
   "outputs": [],
   "source": [
    "df = pd.read_csv(\"../NY17_24combinedcleaned.csv\")"
   ]
  },
  {
   "cell_type": "code",
   "execution_count": 18,
   "metadata": {},
   "outputs": [
    {
     "name": "stdout",
     "output_type": "stream",
     "text": [
      "                 TMP            WND           AA1           SLP            DEW\n",
      "count  120089.000000  120089.000000  22350.000000  72736.000000  120089.000000\n",
      "mean       69.897031      86.261243      0.311432   1022.013264     653.647195\n",
      "std       227.231181     275.609102      0.585993      8.859794    2316.844736\n",
      "min       -61.000000       0.000000      0.100000    977.300000    -610.000000\n",
      "25%         7.000000       2.100000      0.100000   1015.200000      10.000000\n",
      "50%        16.000000       3.100000      0.100000   1023.900000     100.000000\n",
      "75%        23.300000       4.600000      0.100000   1030.000000     180.000000\n",
      "max       999.900000     999.900000      2.400000   1048.900000    9999.000000\n"
     ]
    }
   ],
   "source": [
    "print(df[['TMP', 'WND', 'AA1', 'SLP', 'DEW']].describe())\n"
   ]
  },
  {
   "cell_type": "markdown",
   "metadata": {},
   "source": [
    "TMP (Temperature, °C?) - There are extreme outliers (999.9 is likely an error).\n",
    "WND (Wind Speed, m/s?) - Very high max value suggests errors or misrecordings.\n",
    "AA1 (Rainfall, mm?)\t - Most values are low (likely light rain).\n",
    "SLP (Sea Level Pressure, hPa) - Seems normal.\n",
    "DEW (Dew Point, °C?) - Extreme values suggest errors or missing values."
   ]
  },
  {
   "cell_type": "code",
   "execution_count": 19,
   "metadata": {},
   "outputs": [],
   "source": [
    "# Replace extreme values with NaN\n",
    "df.loc[df['TMP'] > 50, 'TMP'] = np.nan  # Likely errors above 50°C\n",
    "df.loc[df['WND'] > 150, 'WND'] = np.nan  # Unrealistically high wind speeds\n",
    "df.loc[df['DEW'] > 50, 'DEW'] = np.nan  # Dew point rarely exceeds 50°C\n",
    "df.loc[df['SLP'] < 950, 'SLP'] = np.nan  # Pressure below 950 hPa is very rare"
   ]
  },
  {
   "cell_type": "code",
   "execution_count": 20,
   "metadata": {},
   "outputs": [],
   "source": [
    "def classify_weather(row):\n",
    "    if row[\"AA1\"] > 5:  # Significant rainfall threshold\n",
    "        if row[\"TMP\"] < 0:\n",
    "            return \"Snow\"  # Cold + precipitation = snow\n",
    "        elif row[\"TMP\"] > 30:  \n",
    "            if row[\"WND\"] > 10:  # Strict: Requires strong wind\n",
    "                return \"Thunderstorm\"  \n",
    "            else:  # Flexible: No wind requirement\n",
    "                return \"Thunderstorm\"  \n",
    "        else:\n",
    "            return \"Rainy\"  # Otherwise, just rain\n",
    "    elif row[\"TMP\"] > 35 and row[\"SLP\"] > 1020:\n",
    "        return \"Heatwave\"  # High temp + high pressure\n",
    "    elif row[\"WND\"] > 15:  # Stronger wind needed to classify as Windy\n",
    "        return \"Windy\"\n",
    "    else:\n",
    "        return \"Clear\"\n",
    "\n",
    "df['Weather_Class'] = df.apply(classify_weather, axis=1)\n"
   ]
  },
  {
   "cell_type": "code",
   "execution_count": 21,
   "metadata": {},
   "outputs": [
    {
     "name": "stdout",
     "output_type": "stream",
     "text": [
      "Accuracy: 1.0\n",
      "              precision    recall  f1-score   support\n",
      "\n",
      "       Clear       1.00      1.00      1.00     24017\n",
      "    Heatwave       1.00      1.00      1.00         1\n",
      "\n",
      "    accuracy                           1.00     24018\n",
      "   macro avg       1.00      1.00      1.00     24018\n",
      "weighted avg       1.00      1.00      1.00     24018\n",
      "\n"
     ]
    }
   ],
   "source": [
    "# Select features and target variable\n",
    "X = df[['WND', 'AA1', 'TMP', 'SLP', 'DEW']]\n",
    "y = df['Weather_Class']\n",
    "\n",
    "# Encode target labels into numbers\n",
    "encoder = LabelEncoder()\n",
    "y_encoded = encoder.fit_transform(y)\n",
    "\n",
    "# Split into training & testing sets\n",
    "X_train, X_test, y_train, y_test = train_test_split(X, y_encoded, test_size=0.2, random_state=42)\n",
    "\n",
    "# Initialize Random Forest model\n",
    "rf_model = RandomForestClassifier(n_estimators=100, random_state=42)\n",
    "\n",
    "# Train the model\n",
    "rf_model.fit(X_train, y_train)\n",
    "\n",
    "# Make predictions\n",
    "y_pred = rf_model.predict(X_test)\n",
    "\n",
    "# Evaluate performance\n",
    "print(\"Accuracy:\", accuracy_score(y_test, y_pred))\n",
    "print(classification_report(y_test, y_pred, target_names=encoder.classes_))"
   ]
  },
  {
   "cell_type": "code",
   "execution_count": 22,
   "metadata": {},
   "outputs": [
    {
     "data": {
      "image/png": "[encoded data removed]",
      "text/plain": [
       "<Figure size 800x500 with 1 Axes>"
      ]
     },
     "metadata": {},
     "output_type": "display_data"
    }
   ],
   "source": [
    "import matplotlib.pyplot as plt\n",
    "import numpy as np\n",
    "\n",
    "# Get feature importances\n",
    "importances = rf_model.feature_importances_\n",
    "features = X.columns\n",
    "\n",
    "# Plot feature importance\n",
    "plt.figure(figsize=(8, 5))\n",
    "plt.barh(features, importances, color='skyblue')\n",
    "plt.xlabel('Importance')\n",
    "plt.ylabel('Feature')\n",
    "plt.title('Feature Importance in Weather Prediction')\n",
    "plt.show()\n"
   ]
  }
 ],
 "metadata": {
  "kernelspec": {
   "display_name": "base",
   "language": "python",
   "name": "python3"
  },
  "language_info": {
   "codemirror_mode": {
    "name": "ipython",
    "version": 3
   },
   "file_extension": ".py",
   "mimetype": "text/x-python",
   "name": "python",
   "nbconvert_exporter": "python",
   "pygments_lexer": "ipython3",
   "version": "3.12.4"
  }
 },
 "nbformat": 4,
 "nbformat_minor": 2
}

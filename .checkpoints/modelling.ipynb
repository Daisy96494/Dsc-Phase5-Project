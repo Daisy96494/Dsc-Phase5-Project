{
 "cells": [
  {
   "cell_type": "code",
   "execution_count": 117,
   "metadata": {},
   "outputs": [],
   "source": [
    "import pandas as pd\n",
    "import numpy as np\n",
    "from sklearn.preprocessing import LabelEncoder\n",
    "import matplotlib.pyplot as plt\n",
    "import seaborn as sns\n",
    "from collections import Counter\n",
    "from sklearn.preprocessing import StandardScaler\n",
    "\n",
    "import gzip\n",
    "import shutil\n",
    "import re\n",
    "import string\n",
    "from sklearn.model_selection import train_test_split\n",
    "from sklearn.preprocessing import LabelEncoder\n",
    "from sklearn.feature_extraction.text import TfidfVectorizer\n",
    "from sklearn.tree import DecisionTreeRegressor\n",
    "from sklearn.metrics import mean_absolute_error, mean_squared_error, r2_score\n",
    "from sklearn.preprocessing import LabelEncoder\n",
    "from sklearn.model_selection import GridSearchCV\n",
    "from sklearn.linear_model import LinearRegression\n",
    "from sklearn import metrics\n",
    "import warnings\n",
    "warnings.filterwarnings('ignore')"
   ]
  },
  {
   "cell_type": "markdown",
   "metadata": {},
   "source": [
    "### Converting the gz file to a csv"
   ]
  },
  {
   "cell_type": "code",
   "execution_count": 118,
   "metadata": {},
   "outputs": [
    {
     "name": "stdout",
     "output_type": "stream",
     "text": [
      "File has been converted.\n"
     ]
    }
   ],
   "source": [
    "gz_file = './Modelling data.gz'\n",
    "csv_file = './Modelling data.csv'\n",
    "\n",
    "with gzip.open(gz_file, 'rb') as f_in:\n",
    "    with open(csv_file, 'wb') as f_out:\n",
    "        shutil.copyfileobj(f_in, f_out)\n",
    "print(\"File has been converted.\")\n"
   ]
  },
  {
   "cell_type": "code",
   "execution_count": 119,
   "metadata": {},
   "outputs": [
    {
     "data": {
      "text/html": [
       "<div>\n",
       "<style scoped>\n",
       "    .dataframe tbody tr th:only-of-type {\n",
       "        vertical-align: middle;\n",
       "    }\n",
       "\n",
       "    .dataframe tbody tr th {\n",
       "        vertical-align: top;\n",
       "    }\n",
       "\n",
       "    .dataframe thead th {\n",
       "        text-align: right;\n",
       "    }\n",
       "</style>\n",
       "<table border=\"1\" class=\"dataframe\">\n",
       "  <thead>\n",
       "    <tr style=\"text-align: right;\">\n",
       "      <th></th>\n",
       "      <th>NAME</th>\n",
       "      <th>ELEVATION</th>\n",
       "      <th>DATE</th>\n",
       "      <th>WND</th>\n",
       "      <th>AA1</th>\n",
       "      <th>TMP</th>\n",
       "      <th>SLP</th>\n",
       "      <th>DEW</th>\n",
       "    </tr>\n",
       "  </thead>\n",
       "  <tbody>\n",
       "    <tr>\n",
       "      <th>0</th>\n",
       "      <td>PORT AUTH DOWNTN MANHATTAN WALL ST HEL, NY US</td>\n",
       "      <td>2.13</td>\n",
       "      <td>2017-01-01T00:15:00</td>\n",
       "      <td>6.7</td>\n",
       "      <td>NaN</td>\n",
       "      <td>6.0</td>\n",
       "      <td>1030.0</td>\n",
       "      <td>-20</td>\n",
       "    </tr>\n",
       "    <tr>\n",
       "      <th>1</th>\n",
       "      <td>PORT AUTH DOWNTN MANHATTAN WALL ST HEL, NY US</td>\n",
       "      <td>2.13</td>\n",
       "      <td>2017-01-01T00:35:00</td>\n",
       "      <td>6.2</td>\n",
       "      <td>NaN</td>\n",
       "      <td>6.0</td>\n",
       "      <td>1030.0</td>\n",
       "      <td>-20</td>\n",
       "    </tr>\n",
       "    <tr>\n",
       "      <th>2</th>\n",
       "      <td>PORT AUTH DOWNTN MANHATTAN WALL ST HEL, NY US</td>\n",
       "      <td>2.13</td>\n",
       "      <td>2017-01-01T00:55:00</td>\n",
       "      <td>5.7</td>\n",
       "      <td>NaN</td>\n",
       "      <td>6.0</td>\n",
       "      <td>1030.0</td>\n",
       "      <td>-30</td>\n",
       "    </tr>\n",
       "    <tr>\n",
       "      <th>3</th>\n",
       "      <td>PORT AUTH DOWNTN MANHATTAN WALL ST HEL, NY US</td>\n",
       "      <td>2.13</td>\n",
       "      <td>2017-01-01T00:56:00</td>\n",
       "      <td>6.2</td>\n",
       "      <td>NaN</td>\n",
       "      <td>6.1</td>\n",
       "      <td>NaN</td>\n",
       "      <td>-28</td>\n",
       "    </tr>\n",
       "    <tr>\n",
       "      <th>4</th>\n",
       "      <td>PORT AUTH DOWNTN MANHATTAN WALL ST HEL, NY US</td>\n",
       "      <td>2.13</td>\n",
       "      <td>2017-01-01T01:15:00</td>\n",
       "      <td>5.7</td>\n",
       "      <td>NaN</td>\n",
       "      <td>6.0</td>\n",
       "      <td>1030.0</td>\n",
       "      <td>-20</td>\n",
       "    </tr>\n",
       "  </tbody>\n",
       "</table>\n",
       "</div>"
      ],
      "text/plain": [
       "                                            NAME  ELEVATION  \\\n",
       "0  PORT AUTH DOWNTN MANHATTAN WALL ST HEL, NY US       2.13   \n",
       "1  PORT AUTH DOWNTN MANHATTAN WALL ST HEL, NY US       2.13   \n",
       "2  PORT AUTH DOWNTN MANHATTAN WALL ST HEL, NY US       2.13   \n",
       "3  PORT AUTH DOWNTN MANHATTAN WALL ST HEL, NY US       2.13   \n",
       "4  PORT AUTH DOWNTN MANHATTAN WALL ST HEL, NY US       2.13   \n",
       "\n",
       "                  DATE  WND  AA1  TMP     SLP  DEW  \n",
       "0  2017-01-01T00:15:00  6.7  NaN  6.0  1030.0  -20  \n",
       "1  2017-01-01T00:35:00  6.2  NaN  6.0  1030.0  -20  \n",
       "2  2017-01-01T00:55:00  5.7  NaN  6.0  1030.0  -30  \n",
       "3  2017-01-01T00:56:00  6.2  NaN  6.1     NaN  -28  \n",
       "4  2017-01-01T01:15:00  5.7  NaN  6.0  1030.0  -20  "
      ]
     },
     "execution_count": 119,
     "metadata": {},
     "output_type": "execute_result"
    }
   ],
   "source": [
    "#Preview the first five rows \n",
    "df = pd.read_csv('Modelling data.csv')\n",
    "df.head()"
   ]
  },
  {
   "cell_type": "code",
   "execution_count": 120,
   "metadata": {},
   "outputs": [
    {
     "data": {
      "text/plain": [
       "['NAME', 'ELEVATION', 'DATE', 'WND', 'AA1', 'TMP', 'SLP', 'DEW']"
      ]
     },
     "execution_count": 120,
     "metadata": {},
     "output_type": "execute_result"
    }
   ],
   "source": [
    "#View list of columns\n",
    "df.columns.tolist()"
   ]
  },
  {
   "cell_type": "code",
   "execution_count": 121,
   "metadata": {},
   "outputs": [
    {
     "name": "stdout",
     "output_type": "stream",
     "text": [
      "<class 'pandas.core.frame.DataFrame'>\n",
      "RangeIndex: 120089 entries, 0 to 120088\n",
      "Data columns (total 8 columns):\n",
      " #   Column     Non-Null Count   Dtype  \n",
      "---  ------     --------------   -----  \n",
      " 0   NAME       120089 non-null  object \n",
      " 1   ELEVATION  120089 non-null  float64\n",
      " 2   DATE       120089 non-null  object \n",
      " 3   WND        120089 non-null  float64\n",
      " 4   AA1        22350 non-null   float64\n",
      " 5   TMP        120089 non-null  float64\n",
      " 6   SLP        72736 non-null   float64\n",
      " 7   DEW        120089 non-null  int64  \n",
      "dtypes: float64(5), int64(1), object(2)\n",
      "memory usage: 7.3+ MB\n"
     ]
    }
   ],
   "source": [
    "#Check for summary of columns\n",
    "df.info()"
   ]
  },
  {
   "cell_type": "code",
   "execution_count": 122,
   "metadata": {},
   "outputs": [],
   "source": [
    "# print(df.isnull().sum())\n",
    "\n",
    "# print((df == float('inf')).sum())\n",
    "\n",
    "# df.replace([float('inf'), float('-inf')], float('nan'), inplace=True)\n",
    "# df.fillna(df.mean(), inplace=True)\n",
    "\n",
    "# print(df.isnull().sum())\n",
    "df['AA1'].fillna(0, inplace=True)\n",
    "df['SLP'].fillna(df['SLP'].mean(), inplace=True)\n"
   ]
  },
  {
   "cell_type": "code",
   "execution_count": 130,
   "metadata": {},
   "outputs": [
    {
     "data": {
      "text/plain": [
       "0.0    97739\n",
       "0.1    17870\n",
       "0.6     1999\n",
       "2.4     1538\n",
       "0.3      943\n",
       "Name: AA1, dtype: int64"
      ]
     },
     "execution_count": 130,
     "metadata": {},
     "output_type": "execute_result"
    }
   ],
   "source": [
    "df['AA1'].value_counts()"
   ]
  },
  {
   "cell_type": "markdown",
   "metadata": {},
   "source": [
    "## Modelling"
   ]
  },
  {
   "cell_type": "markdown",
   "metadata": {},
   "source": [
    "### Decision Tree"
   ]
  },
  {
   "cell_type": "code",
   "execution_count": 124,
   "metadata": {},
   "outputs": [],
   "source": [
    "#Converting the date column to datetime\n",
    "df['DATE'] = pd.to_datetime(df['DATE'])\n",
    "\n",
    "#Extracting more columns like year, month, and day\n",
    "df['year'] = df['DATE'].dt.year\n",
    "df['month'] = df['DATE'].dt.month\n",
    "df['day'] = df['DATE'].dt.day\n",
    "\n",
    "#Drop original date column and name\n",
    "df = df.drop(columns=['DATE', 'NAME'])\n",
    "\n"
   ]
  },
  {
   "cell_type": "code",
   "execution_count": 125,
   "metadata": {},
   "outputs": [
    {
     "data": {
      "text/html": [
       "<div>\n",
       "<style scoped>\n",
       "    .dataframe tbody tr th:only-of-type {\n",
       "        vertical-align: middle;\n",
       "    }\n",
       "\n",
       "    .dataframe tbody tr th {\n",
       "        vertical-align: top;\n",
       "    }\n",
       "\n",
       "    .dataframe thead th {\n",
       "        text-align: right;\n",
       "    }\n",
       "</style>\n",
       "<table border=\"1\" class=\"dataframe\">\n",
       "  <thead>\n",
       "    <tr style=\"text-align: right;\">\n",
       "      <th></th>\n",
       "      <th>ELEVATION</th>\n",
       "      <th>WND</th>\n",
       "      <th>AA1</th>\n",
       "      <th>TMP</th>\n",
       "      <th>SLP</th>\n",
       "      <th>DEW</th>\n",
       "      <th>year</th>\n",
       "      <th>month</th>\n",
       "      <th>day</th>\n",
       "    </tr>\n",
       "  </thead>\n",
       "  <tbody>\n",
       "    <tr>\n",
       "      <th>0</th>\n",
       "      <td>2.13</td>\n",
       "      <td>6.7</td>\n",
       "      <td>0.0</td>\n",
       "      <td>6.0</td>\n",
       "      <td>1030.000000</td>\n",
       "      <td>-20</td>\n",
       "      <td>2017</td>\n",
       "      <td>1</td>\n",
       "      <td>1</td>\n",
       "    </tr>\n",
       "    <tr>\n",
       "      <th>1</th>\n",
       "      <td>2.13</td>\n",
       "      <td>6.2</td>\n",
       "      <td>0.0</td>\n",
       "      <td>6.0</td>\n",
       "      <td>1030.000000</td>\n",
       "      <td>-20</td>\n",
       "      <td>2017</td>\n",
       "      <td>1</td>\n",
       "      <td>1</td>\n",
       "    </tr>\n",
       "    <tr>\n",
       "      <th>2</th>\n",
       "      <td>2.13</td>\n",
       "      <td>5.7</td>\n",
       "      <td>0.0</td>\n",
       "      <td>6.0</td>\n",
       "      <td>1030.000000</td>\n",
       "      <td>-30</td>\n",
       "      <td>2017</td>\n",
       "      <td>1</td>\n",
       "      <td>1</td>\n",
       "    </tr>\n",
       "    <tr>\n",
       "      <th>3</th>\n",
       "      <td>2.13</td>\n",
       "      <td>6.2</td>\n",
       "      <td>0.0</td>\n",
       "      <td>6.1</td>\n",
       "      <td>1022.013264</td>\n",
       "      <td>-28</td>\n",
       "      <td>2017</td>\n",
       "      <td>1</td>\n",
       "      <td>1</td>\n",
       "    </tr>\n",
       "    <tr>\n",
       "      <th>4</th>\n",
       "      <td>2.13</td>\n",
       "      <td>5.7</td>\n",
       "      <td>0.0</td>\n",
       "      <td>6.0</td>\n",
       "      <td>1030.000000</td>\n",
       "      <td>-20</td>\n",
       "      <td>2017</td>\n",
       "      <td>1</td>\n",
       "      <td>1</td>\n",
       "    </tr>\n",
       "    <tr>\n",
       "      <th>...</th>\n",
       "      <td>...</td>\n",
       "      <td>...</td>\n",
       "      <td>...</td>\n",
       "      <td>...</td>\n",
       "      <td>...</td>\n",
       "      <td>...</td>\n",
       "      <td>...</td>\n",
       "      <td>...</td>\n",
       "      <td>...</td>\n",
       "    </tr>\n",
       "    <tr>\n",
       "      <th>120084</th>\n",
       "      <td>2.13</td>\n",
       "      <td>4.6</td>\n",
       "      <td>0.0</td>\n",
       "      <td>11.7</td>\n",
       "      <td>1010.600000</td>\n",
       "      <td>39</td>\n",
       "      <td>2024</td>\n",
       "      <td>12</td>\n",
       "      <td>31</td>\n",
       "    </tr>\n",
       "    <tr>\n",
       "      <th>120085</th>\n",
       "      <td>2.13</td>\n",
       "      <td>3.6</td>\n",
       "      <td>0.0</td>\n",
       "      <td>10.0</td>\n",
       "      <td>1010.100000</td>\n",
       "      <td>44</td>\n",
       "      <td>2024</td>\n",
       "      <td>12</td>\n",
       "      <td>31</td>\n",
       "    </tr>\n",
       "    <tr>\n",
       "      <th>120086</th>\n",
       "      <td>2.13</td>\n",
       "      <td>4.6</td>\n",
       "      <td>0.0</td>\n",
       "      <td>9.4</td>\n",
       "      <td>1009.600000</td>\n",
       "      <td>44</td>\n",
       "      <td>2024</td>\n",
       "      <td>12</td>\n",
       "      <td>31</td>\n",
       "    </tr>\n",
       "    <tr>\n",
       "      <th>120087</th>\n",
       "      <td>2.13</td>\n",
       "      <td>5.7</td>\n",
       "      <td>0.0</td>\n",
       "      <td>8.9</td>\n",
       "      <td>1008.600000</td>\n",
       "      <td>44</td>\n",
       "      <td>2024</td>\n",
       "      <td>12</td>\n",
       "      <td>31</td>\n",
       "    </tr>\n",
       "    <tr>\n",
       "      <th>120088</th>\n",
       "      <td>2.13</td>\n",
       "      <td>6.2</td>\n",
       "      <td>0.0</td>\n",
       "      <td>8.9</td>\n",
       "      <td>1006.600000</td>\n",
       "      <td>44</td>\n",
       "      <td>2024</td>\n",
       "      <td>12</td>\n",
       "      <td>31</td>\n",
       "    </tr>\n",
       "  </tbody>\n",
       "</table>\n",
       "<p>120089 rows × 9 columns</p>\n",
       "</div>"
      ],
      "text/plain": [
       "        ELEVATION  WND  AA1   TMP          SLP  DEW  year  month  day\n",
       "0            2.13  6.7  0.0   6.0  1030.000000  -20  2017      1    1\n",
       "1            2.13  6.2  0.0   6.0  1030.000000  -20  2017      1    1\n",
       "2            2.13  5.7  0.0   6.0  1030.000000  -30  2017      1    1\n",
       "3            2.13  6.2  0.0   6.1  1022.013264  -28  2017      1    1\n",
       "4            2.13  5.7  0.0   6.0  1030.000000  -20  2017      1    1\n",
       "...           ...  ...  ...   ...          ...  ...   ...    ...  ...\n",
       "120084       2.13  4.6  0.0  11.7  1010.600000   39  2024     12   31\n",
       "120085       2.13  3.6  0.0  10.0  1010.100000   44  2024     12   31\n",
       "120086       2.13  4.6  0.0   9.4  1009.600000   44  2024     12   31\n",
       "120087       2.13  5.7  0.0   8.9  1008.600000   44  2024     12   31\n",
       "120088       2.13  6.2  0.0   8.9  1006.600000   44  2024     12   31\n",
       "\n",
       "[120089 rows x 9 columns]"
      ]
     },
     "execution_count": 125,
     "metadata": {},
     "output_type": "execute_result"
    }
   ],
   "source": [
    "df"
   ]
  },
  {
   "cell_type": "code",
   "execution_count": 126,
   "metadata": {},
   "outputs": [
    {
     "name": "stdout",
     "output_type": "stream",
     "text": [
      "Mean Absolute Error (MAE): 2.0919107022031107\n",
      "Mean Squared Error (MSE): 639.4165931201961\n",
      "R-squared: 0.9873893327218082\n"
     ]
    }
   ],
   "source": [
    "#Select features and target variable\n",
    "X = df[['ELEVATION', 'WND', 'AA1', 'SLP', 'DEW', 'year', 'month', 'day']]\n",
    "y = df['TMP']\n",
    "\n",
    "#Split the data into training and testing sets\n",
    "X_train, X_test, y_train, y_test = train_test_split(X, y, test_size=0.2, random_state=42)\n",
    "\n",
    "#Initialize Decision Tree Regressor\n",
    "model = DecisionTreeRegressor(random_state=42)\n",
    "\n",
    "#Train the model\n",
    "model.fit(X_train, y_train)\n",
    "\n",
    "#Make predictions\n",
    "y_pred = model.predict(X_test)\n",
    "\n",
    "#Evaluate the model\n",
    "mae = mean_absolute_error(y_test, y_pred)\n",
    "mse = mean_squared_error(y_test, y_pred)\n",
    "r2 = r2_score(y_test, y_pred)\n",
    "\n",
    "#Print the evaluation metrics\n",
    "print(f\"Mean Absolute Error (MAE): {mae}\")\n",
    "print(f\"Mean Squared Error (MSE): {mse}\")\n",
    "print(f\"R-squared: {r2}\")"
   ]
  },
  {
   "cell_type": "markdown",
   "metadata": {},
   "source": [
    "### GridSearchCV"
   ]
  },
  {
   "cell_type": "code",
   "execution_count": 127,
   "metadata": {},
   "outputs": [
    {
     "name": "stdout",
     "output_type": "stream",
     "text": [
      "Best Hyperparameters: {'max_depth': None, 'max_features': None, 'min_samples_leaf': 1, 'min_samples_split': 10}\n",
      "Best Cross-Validation Score (MSE): -556.2376732464446\n"
     ]
    }
   ],
   "source": [
    "#Create the Decision Tree Regressor Model\n",
    "model = DecisionTreeRegressor(random_state=42)\n",
    "\n",
    "#Define the parameter grid to search\n",
    "param_grid = {\n",
    "    'max_depth': [3, 5, 7, 10, None],   \n",
    "    'min_samples_split': [2, 5, 10],    \n",
    "    'min_samples_leaf': [1, 2, 4],      \n",
    "    'max_features': [None, 'sqrt', 'log2']  \n",
    "}\n",
    "\n",
    "#Perform GridSearchCV using cross validation\n",
    "grid_search = GridSearchCV(estimator=model, param_grid=param_grid, cv=5, scoring='neg_mean_squared_error', n_jobs=-1)\n",
    "grid_search.fit(X_train, y_train)\n",
    "\n",
    "#Get the best parameters and best scores\n",
    "best_params = grid_search.best_params_\n",
    "best_score = grid_search.best_score_\n",
    "\n",
    "print(\"Best Hyperparameters:\", best_params)\n",
    "print(\"Best Cross-Validation Score (MSE):\", best_score)"
   ]
  },
  {
   "cell_type": "markdown",
   "metadata": {},
   "source": [
    "### Linear Regression"
   ]
  },
  {
   "cell_type": "code",
   "execution_count": 128,
   "metadata": {},
   "outputs": [
    {
     "name": "stdout",
     "output_type": "stream",
     "text": [
      "Coefficients: [ 0.00312761 -0.49549332  0.20195734  0.09652004]\n",
      "Mean Absolute Error (MAE): 6.267100082402467\n",
      "Mean Squared Error (MSE): 1238.4312130877122\n",
      "Root Mean Squared Error (RMSE): 35.19135139615574\n",
      "R-squared: 0.9755754790488509\n"
     ]
    }
   ],
   "source": [
    "#Select feature and target variables\n",
    "X = df[['WND', 'AA1', 'SLP', 'DEW']]  # independent variables\n",
    "y = df['TMP']  # Target variable \n",
    "\n",
    "# Split the data into training and test sets\n",
    "X_train, X_test, y_train, y_test = train_test_split(X, y, test_size=0.2, random_state=42)\n",
    "\n",
    "# Create and train the linear regression model\n",
    "model = LinearRegression()\n",
    "model.fit(X_train, y_train)\n",
    "\n",
    "# Make predictions on the test set\n",
    "y_pred = model.predict(X_test)\n",
    "\n",
    "# Evaluate the model\n",
    "# Print the coefficients (weights for each feature)\n",
    "print(\"Coefficients:\", model.coef_)\n",
    "\n",
    "# Calculate Mean Absolute Error (MAE)\n",
    "mae = metrics.mean_absolute_error(y_test, y_pred)\n",
    "print(\"Mean Absolute Error (MAE):\", mae)\n",
    "\n",
    "# Calculate Mean Squared Error (MSE)\n",
    "mse = metrics.mean_squared_error(y_test, y_pred)\n",
    "print(\"Mean Squared Error (MSE):\", mse)\n",
    "\n",
    "# Calculate Root Mean Squared Error (RMSE)\n",
    "rmse = np.sqrt(mse)\n",
    "print(\"Root Mean Squared Error (RMSE):\", rmse)\n",
    "\n",
    "# Calculate R-squared \n",
    "r2 = metrics.r2_score(y_test, y_pred)\n",
    "print(\"R-squared:\", r2)"
   ]
  },
  {
   "cell_type": "markdown",
   "metadata": {},
   "source": [
    "### Comparison of the models"
   ]
  },
  {
   "cell_type": "code",
   "execution_count": 129,
   "metadata": {},
   "outputs": [
    {
     "data": {
      "image/png": "[encoded data removed]",
      "text/plain": [
       "<Figure size 1008x720 with 4 Axes>"
      ]
     },
     "metadata": {
      "needs_background": "light"
     },
     "output_type": "display_data"
    },
    {
     "name": "stdout",
     "output_type": "stream",
     "text": [
      "                                Model  R-squared   MAE      MSE   RMSE\n",
      "0                       Decision Tree     0.9866  2.13   679.48    NaN\n",
      "1  Hyperparameter-Tuned Decision Tree        NaN   NaN      NaN    NaN\n",
      "2                   Linear Regression     0.9756  6.27  1238.37  35.19\n"
     ]
    }
   ],
   "source": [
    "# Define model performance data\n",
    "model_comparison = {\n",
    "    'Model': ['Decision Tree', 'Hyperparameter-Tuned Decision Tree', 'Linear Regression'],\n",
    "    'R-squared': [0.9866, np.nan, 0.9756],\n",
    "    'MAE': [2.13, np.nan, 6.27],\n",
    "    'MSE': [679.48, np.nan, 1238.37],\n",
    "    'RMSE': [np.nan, np.nan, 35.19]\n",
    "}\n",
    "\n",
    "# Create DataFrame\n",
    "df_comparison = pd.DataFrame(model_comparison)\n",
    "\n",
    "# Plotting the comparison\n",
    "fig, axes = plt.subplots(2, 2, figsize=(14, 10))\n",
    "\n",
    "# R-squared Bar plot\n",
    "axes[0, 0].bar(df_comparison['Model'], df_comparison['R-squared'], color='skyblue')\n",
    "axes[0, 0].set_title('R-squared Comparison')\n",
    "axes[0, 0].set_ylabel('R-squared')\n",
    "\n",
    "# MAE Bar plot\n",
    "axes[0, 1].bar(df_comparison['Model'], df_comparison['MAE'], color='orange')\n",
    "axes[0, 1].set_title('Mean Absolute Error (MAE) Comparison')\n",
    "axes[0, 1].set_ylabel('MAE')\n",
    "\n",
    "# MSE Bar plot\n",
    "axes[1, 0].bar(df_comparison['Model'], df_comparison['MSE'], color='green')\n",
    "axes[1, 0].set_title('Mean Squared Error (MSE) Comparison')\n",
    "axes[1, 0].set_ylabel('MSE')\n",
    "\n",
    "# RMSE Bar plot (for Linear Regression only)\n",
    "axes[1, 1].bar(df_comparison['Model'], df_comparison['RMSE'], color='red')\n",
    "axes[1, 1].set_title('Root Mean Squared Error (RMSE) Comparison')\n",
    "axes[1, 1].set_ylabel('RMSE')\n",
    "\n",
    "plt.tight_layout()\n",
    "plt.show()\n",
    "\n",
    "# Display the DataFrame for quick reference\n",
    "print(df_comparison)"
   ]
  },
  {
   "cell_type": "markdown",
   "metadata": {},
   "source": [
    "Based on this analysis, the default Decision Tree model performs the best overall in predicting weather data, particularly in terms of explained variance (R²) and prediction accuracy (MAE and MSE)."
   ]
  }
 ],
 "metadata": {
  "kernelspec": {
   "display_name": "learn-env",
   "language": "python",
   "name": "python3"
  },
  "language_info": {
   "codemirror_mode": {
    "name": "ipython",
    "version": 3
   },
   "file_extension": ".py",
   "mimetype": "text/x-python",
   "name": "python",
   "nbconvert_exporter": "python",
   "pygments_lexer": "ipython3",
   "version": "3.8.5"
  }
 },
 "nbformat": 4,
 "nbformat_minor": 2
}
